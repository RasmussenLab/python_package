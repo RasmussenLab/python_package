{
 "cells": [
  {
   "cell_type": "markdown",
   "id": "62cb84c2",
   "metadata": {},
   "source": [
    "# Python Package tutorial\n",
    "\n",
    "Run when documentation is build. Building documentation therefore can become\n",
    "an minimal integration test for the package."
   ]
  },
  {
   "cell_type": "code",
   "execution_count": null,
   "id": "825cc996",
   "metadata": {},
   "outputs": [],
   "source": [
    "from python_package import hello_world"
   ]
  },
  {
   "cell_type": "markdown",
   "id": "78609dba",
   "metadata": {},
   "source": [
    "## Hello World\n",
    "mockup module contains a function which returns a string repeating the 'hello world' string\n",
    "n-times."
   ]
  },
  {
   "cell_type": "code",
   "execution_count": null,
   "id": "d3ac73ba",
   "metadata": {},
   "outputs": [],
   "source": [
    "ret = hello_world(2)\n",
    "ret"
   ]
  },
  {
   "cell_type": "markdown",
   "id": "b3012415",
   "metadata": {},
   "source": [
    "Print the string."
   ]
  },
  {
   "cell_type": "code",
   "execution_count": null,
   "id": "f3a3d02a",
   "metadata": {},
   "outputs": [],
   "source": [
    "print(ret)"
   ]
  },
  {
   "cell_type": "markdown",
   "id": "076361ca",
   "metadata": {},
   "source": [
    "Inspect the signature. In an interactive session you could also use `hello_world?` to\n",
    "display the docstring. See the rendered version here:\n",
    "[reference/python_package.mockup](python_package.mockup.hello_world)"
   ]
  },
  {
   "cell_type": "code",
   "execution_count": null,
   "id": "9cf7157d",
   "metadata": {},
   "outputs": [],
   "source": [
    "help(hello_world)"
   ]
  },
  {
   "cell_type": "markdown",
   "id": "916c31f2",
   "metadata": {},
   "source": [
    "Simple example for a recipe showing what the package can do."
   ]
  }
 ],
 "metadata": {
  "jupytext": {
   "cell_metadata_filter": "-all",
   "main_language": "python",
   "notebook_metadata_filter": "-all"
  }
 },
 "nbformat": 4,
 "nbformat_minor": 5
}
