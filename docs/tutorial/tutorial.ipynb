{
 "cells": [
  {
   "cell_type": "markdown",
   "id": "62cb84c2",
   "metadata": {},
   "source": [
    "# Python Package tutorial\n",
    "\n",
    "Run when documentation is build. Building documentation therefore can become\n",
    "an minimal integration test for the package."
   ]
  },
  {
   "cell_type": "code",
   "execution_count": null,
   "id": "825cc996",
   "metadata": {},
   "outputs": [],
   "source": [
    "from python_package import hello_world"
   ]
  },
  {
   "cell_type": "code",
   "execution_count": null,
   "id": "d3ac73ba",
   "metadata": {},
   "outputs": [],
   "source": [
    "ret = hello_world(2)\n",
    "ret"
   ]
  },
  {
   "cell_type": "code",
   "execution_count": null,
   "id": "f3a3d02a",
   "metadata": {},
   "outputs": [],
   "source": [
    "print(ret)"
   ]
  },
  {
   "cell_type": "code",
   "execution_count": null,
   "id": "9cf7157d",
   "metadata": {},
   "outputs": [],
   "source": [
    "hello_world?"
   ]
  },
  {
   "cell_type": "code",
   "execution_count": null,
   "id": "4ae5341c",
   "metadata": {
    "title": "markdown"
   },
   "outputs": [],
   "source": [
    "# Simple example for a recipe showing what the package can do."
   ]
  }
 ],
 "metadata": {
  "jupytext": {
   "cell_metadata_filter": "-all",
   "main_language": "python",
   "notebook_metadata_filter": "-all"
  }
 },
 "nbformat": 4,
 "nbformat_minor": 5
}
