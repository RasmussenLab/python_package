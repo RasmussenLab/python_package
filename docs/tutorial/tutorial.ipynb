{
 "cells": [
  {
   "cell_type": "markdown",
   "id": "62cb84c2",
   "metadata": {},
   "source": [
    "# Mockup tutorial"
   ]
  },
  {
   "cell_type": "code",
   "execution_count": null,
   "id": "825cc996",
   "metadata": {},
   "outputs": [],
   "source": [
    "from mockup import mockup"
   ]
  },
  {
   "cell_type": "code",
   "execution_count": null,
   "id": "d3ac73ba",
   "metadata": {},
   "outputs": [],
   "source": [
    "mockup.add_one(-11)"
   ]
  },
  {
   "cell_type": "code",
   "execution_count": null,
   "id": "f3a3d02a",
   "metadata": {},
   "outputs": [],
   "source": [
    "list(mockup.flatten_ints([[9, 11], [12], [4, 5]]))"
   ]
  },
  {
   "cell_type": "code",
   "execution_count": null,
   "id": "9cf7157d",
   "metadata": {},
   "outputs": [],
   "source": [
    "c2 = mockup.Circle.from_circumference(100)\n",
    "round(c2.radius, 3)"
   ]
  },
  {
   "cell_type": "code",
   "execution_count": null,
   "id": "4ae5341c",
   "metadata": {},
   "outputs": [],
   "source": [
    "c2  # repr"
   ]
  },
  {
   "cell_type": "markdown",
   "id": "1bc4ca39",
   "metadata": {},
   "source": []
  }
 ],
 "metadata": {
  "jupytext": {
   "cell_metadata_filter": "-all",
   "main_language": "python",
   "notebook_metadata_filter": "-all"
  }
 },
 "nbformat": 4,
 "nbformat_minor": 5
}
